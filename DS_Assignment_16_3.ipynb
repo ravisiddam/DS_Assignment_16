{
 "cells": [
  {
   "cell_type": "markdown",
   "metadata": {},
   "source": [
    "In a class on 100 students, 80 students passed in all subjects \n",
    "                            10 failed in one subject,\n",
    "                            7 failed in two subjects and\n",
    "                            3 failed in three subjects.\n",
    "\n",
    "Find the probability distribution of the variable for number of subjects a student from the given class has failed in"
   ]
  },
  {
   "cell_type": "raw",
   "metadata": {},
   "source": [
    "x\tP(x) 1-p(x)\n",
    "0\t0.8  0.2\n",
    "1\t0.10 0.90\n",
    "2\t0.07 0.93\n",
    "3\t0.03 0.97\n",
    " "
   ]
  },
  {
   "cell_type": "code",
   "execution_count": 4,
   "metadata": {},
   "outputs": [
    {
     "name": "stdout",
     "output_type": "stream",
     "text": [
      "0.33\n"
     ]
    }
   ],
   "source": [
    "#E(x.p(x))\n",
    "P = 0*0.8 + 1 *0.10 + 2 *(0.07) + 3 * (0.03)\n",
    "print(P)"
   ]
  },
  {
   "cell_type": "code",
   "execution_count": null,
   "metadata": {},
   "outputs": [],
   "source": []
  }
 ],
 "metadata": {
  "kernelspec": {
   "display_name": "Python 3",
   "language": "python",
   "name": "python3"
  },
  "language_info": {
   "codemirror_mode": {
    "name": "ipython",
    "version": 3
   },
   "file_extension": ".py",
   "mimetype": "text/x-python",
   "name": "python",
   "nbconvert_exporter": "python",
   "pygments_lexer": "ipython3",
   "version": "3.6.5"
  }
 },
 "nbformat": 4,
 "nbformat_minor": 2
}
